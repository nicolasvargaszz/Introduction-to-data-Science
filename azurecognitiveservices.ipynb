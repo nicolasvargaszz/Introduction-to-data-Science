{
  "nbformat": 4,
  "nbformat_minor": 0,
  "metadata": {
    "colab": {
      "provenance": []
    },
    "kernelspec": {
      "name": "python3",
      "display_name": "Python 3"
    },
    "language_info": {
      "name": "python"
    }
  },
  "cells": [
    {
      "cell_type": "code",
      "source": [
        "!pip install pillow"
      ],
      "metadata": {
        "colab": {
          "base_uri": "https://localhost:8080/"
        },
        "id": "mCsIZ9YXTPkZ",
        "outputId": "720e381a-b87a-466e-a888-462c87c81358"
      },
      "execution_count": null,
      "outputs": [
        {
          "output_type": "stream",
          "name": "stdout",
          "text": [
            "Looking in indexes: https://pypi.org/simple, https://us-python.pkg.dev/colab-wheels/public/simple/\n",
            "Requirement already satisfied: pillow in /usr/local/lib/python3.7/dist-packages (7.1.2)\n"
          ]
        }
      ]
    },
    {
      "cell_type": "code",
      "source": [
        "!pip install --upgrade azure-cognitiveservices-vision-computervision"
      ],
      "metadata": {
        "colab": {
          "base_uri": "https://localhost:8080/"
        },
        "id": "SJgUX6owTgyK",
        "outputId": "8cdd894c-f754-43e4-bd97-6acc605c4ef7"
      },
      "execution_count": null,
      "outputs": [
        {
          "output_type": "stream",
          "name": "stdout",
          "text": [
            "Looking in indexes: https://pypi.org/simple, https://us-python.pkg.dev/colab-wheels/public/simple/\n",
            "Collecting azure-cognitiveservices-vision-computervision\n",
            "  Downloading azure_cognitiveservices_vision_computervision-0.9.0-py2.py3-none-any.whl (39 kB)\n",
            "Collecting azure-common~=1.1\n",
            "  Downloading azure_common-1.1.28-py2.py3-none-any.whl (14 kB)\n",
            "Collecting msrest>=0.5.0\n",
            "  Downloading msrest-0.7.1-py3-none-any.whl (85 kB)\n",
            "\u001b[K     |████████████████████████████████| 85 kB 2.9 MB/s \n",
            "\u001b[?25hRequirement already satisfied: requests~=2.16 in /usr/local/lib/python3.7/dist-packages (from msrest>=0.5.0->azure-cognitiveservices-vision-computervision) (2.23.0)\n",
            "Collecting isodate>=0.6.0\n",
            "  Downloading isodate-0.6.1-py2.py3-none-any.whl (41 kB)\n",
            "\u001b[K     |████████████████████████████████| 41 kB 552 kB/s \n",
            "\u001b[?25hRequirement already satisfied: certifi>=2017.4.17 in /usr/local/lib/python3.7/dist-packages (from msrest>=0.5.0->azure-cognitiveservices-vision-computervision) (2022.6.15)\n",
            "Collecting azure-core>=1.24.0\n",
            "  Downloading azure_core-1.25.0-py3-none-any.whl (178 kB)\n",
            "\u001b[K     |████████████████████████████████| 178 kB 46.7 MB/s \n",
            "\u001b[?25hRequirement already satisfied: requests-oauthlib>=0.5.0 in /usr/local/lib/python3.7/dist-packages (from msrest>=0.5.0->azure-cognitiveservices-vision-computervision) (1.3.1)\n",
            "Requirement already satisfied: typing-extensions>=4.0.1 in /usr/local/lib/python3.7/dist-packages (from azure-core>=1.24.0->msrest>=0.5.0->azure-cognitiveservices-vision-computervision) (4.1.1)\n",
            "Requirement already satisfied: six>=1.11.0 in /usr/local/lib/python3.7/dist-packages (from azure-core>=1.24.0->msrest>=0.5.0->azure-cognitiveservices-vision-computervision) (1.15.0)\n",
            "Requirement already satisfied: idna<3,>=2.5 in /usr/local/lib/python3.7/dist-packages (from requests~=2.16->msrest>=0.5.0->azure-cognitiveservices-vision-computervision) (2.10)\n",
            "Requirement already satisfied: chardet<4,>=3.0.2 in /usr/local/lib/python3.7/dist-packages (from requests~=2.16->msrest>=0.5.0->azure-cognitiveservices-vision-computervision) (3.0.4)\n",
            "Requirement already satisfied: urllib3!=1.25.0,!=1.25.1,<1.26,>=1.21.1 in /usr/local/lib/python3.7/dist-packages (from requests~=2.16->msrest>=0.5.0->azure-cognitiveservices-vision-computervision) (1.24.3)\n",
            "Requirement already satisfied: oauthlib>=3.0.0 in /usr/local/lib/python3.7/dist-packages (from requests-oauthlib>=0.5.0->msrest>=0.5.0->azure-cognitiveservices-vision-computervision) (3.2.0)\n",
            "Installing collected packages: isodate, azure-core, msrest, azure-common, azure-cognitiveservices-vision-computervision\n",
            "Successfully installed azure-cognitiveservices-vision-computervision-0.9.0 azure-common-1.1.28 azure-core-1.25.0 isodate-0.6.1 msrest-0.7.1\n"
          ]
        }
      ]
    },
    {
      "cell_type": "code",
      "execution_count": null,
      "metadata": {
        "id": "yXn5lQUCN-pS",
        "colab": {
          "base_uri": "https://localhost:8080/"
        },
        "outputId": "addd8cd6-c332-41ff-9a52-9d0445e5203e"
      },
      "outputs": [
        {
          "output_type": "stream",
          "name": "stdout",
          "text": [
            "===== Read File - remote =====\n"
          ]
        },
        {
          "output_type": "stream",
          "name": "stderr",
          "text": [
            "WARNING:urllib3.connectionpool:Retrying (Retry(total=2, connect=3, read=2, redirect=None, status=None)) after connection broken by 'ReadTimeoutError(\"HTTPSConnectionPool(host='url-reader.cognitiveservices.azure.com', port=443): Read timed out. (read timeout=100)\")': /vision/v3.2/read/analyzeResults/af0d867f-4314-4de0-8341-4cbef2fefab1\n"
          ]
        },
        {
          "output_type": "stream",
          "name": "stdout",
          "text": [
            "02-08-2022\n",
            "Jazmín Barreto\n",
            "fisica\n",
            "Lic. Norma Ojeda\n",
            "3.) Pólvora:\n",
            "Mat. Prol. Nº 26589\n",
            "3.08\n",
            "- Componentes químicos de la polvora:\n",
            "La química de\n",
            "La polvora\n",
            "- La pólvora no es un compuesto único y particular, que es una mezcla\n",
            "de tres diferentes. En concreto, la forman el nitrato de potasio (75%)\n",
            "carbón (15%), y azufre (10%), y cada uno de estos componentes desempeña\n",
            "un papel importante en la combustión de la pólvola.\n",
            "El nitrato de potasio (KINO2), también conocido como solitre, se descompone\n",
            "a altas temperaturas para proporcionar oxígeno a la reacción, lo que sig:\n",
            "nifica que la pólvora no necesita estar expuesta al aire para prender. El\n",
            "carbón (c) descompone la celulosa y proporciona la fuente de energía para\n",
            "la reacción. Aunque también puede actuar como tal el azufre (s),\n",
            "pero más por el hecho de que sufra reacciones exotérmicos a tem:\n",
            "peraturos relativamente bajas.\n",
            "Azufre\n",
            "- El azufre es un elemento químico de\n",
            "número atómico 16 y símbolo 5 (del latín\n",
            "02-08\n",
            "sulphur). Es in no metal abondante con un color\n",
            "amarillo característico. Dicho elemento es generado en\n",
            "estrellas masivas en las que predominan temperaturas que\n",
            "provocan la fusión entre un núcleo de silicio y otro\n",
            "de helio en un proces denominado nucleosinesis de supernovas\n",
            "DUS\n",
            "\n",
            "End of Computer Vision quickstart.\n"
          ]
        }
      ],
      "source": [
        "from azure.cognitiveservices.vision.computervision import ComputerVisionClient\n",
        "from azure.cognitiveservices.vision.computervision.models import OperationStatusCodes\n",
        "from azure.cognitiveservices.vision.computervision.models import VisualFeatureTypes\n",
        "from msrest.authentication import CognitiveServicesCredentials\n",
        "\n",
        "from array import array\n",
        "import os\n",
        "from PIL import Image\n",
        "import sys\n",
        "import time\n",
        "\n",
        "'''\n",
        "Authenticate\n",
        "Authenticates your credentials and creates a client.\n",
        "'''\n",
        "subscription_key = \"fe58ed6eba3f4dca8994765b1a33ee98\"\n",
        "endpoint = \"https://url-reader.cognitiveservices.azure.com/\"\n",
        "\n",
        "computervision_client = ComputerVisionClient(endpoint, CognitiveServicesCredentials(subscription_key))\n",
        "'''\n",
        "END - Authenticate\n",
        "'''\n",
        "\n",
        "'''\n",
        "OCR: Read File using the Read API, extract text - remote\n",
        "This example will extract text in an image, then print results, line by line.\n",
        "This API call can also extract handwriting style text (not shown).\n",
        "'''\n",
        "print(\"===== Read File - remote =====\")\n",
        "# Get an image with text\n",
        "read_image_url = \"https://raw.githubusercontent.com/nicolasvargaszz/repo-para-img/main/WhatsApp%20Image%202022-08-17%20at%207.14.00%20PM.jpeg\"\n",
        "\n",
        "# Call API with URL and raw response (allows you to get the operation location)\n",
        "read_response = computervision_client.read(read_image_url,  raw=True)\n",
        "\n",
        "# Get the operation location (URL with an ID at the end) from the response\n",
        "read_operation_location = read_response.headers[\"Operation-Location\"]\n",
        "# Grab the ID from the URL\n",
        "operation_id = read_operation_location.split(\"/\")[-1]\n",
        "\n",
        "# Call the \"GET\" API and wait for it to retrieve the results\n",
        "while True:\n",
        "    read_result = computervision_client.get_read_result(operation_id)\n",
        "    if read_result.status not in ['notStarted', 'running']:\n",
        "        break\n",
        "    time.sleep(1)\n",
        "\n",
        "# Print the detected text, line by line\n",
        "if read_result.status == OperationStatusCodes.succeeded:\n",
        "    for text_result in read_result.analyze_result.read_results:\n",
        "        for line in text_result.lines:\n",
        "            print(line.text)\n",
        "            # print(line.bounding_box)\n",
        "print()\n",
        "'''\n",
        "END - Read File - remote\n",
        "'''\n",
        "\n",
        "print(\"End of Computer Vision quickstart.\")"
      ]
    }
  ]
}