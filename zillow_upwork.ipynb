{
  "nbformat": 4,
  "nbformat_minor": 0,
  "metadata": {
    "colab": {
      "provenance": []
    },
    "kernelspec": {
      "name": "python3",
      "display_name": "Python 3"
    },
    "language_info": {
      "name": "python"
    }
  },
  "cells": [
    {
      "cell_type": "code",
      "execution_count": null,
      "metadata": {
        "id": "MI9xCJdXYN08"
      },
      "outputs": [],
      "source": [
        "import pandas as pd\n",
        "import requests\n",
        "from bs4 import BeautifulSoup\n",
        "import time\n",
        "import random\n",
        "from datetime import date, datetime"
      ]
    },
    {
      "cell_type": "code",
      "source": [
        "city = [\"Redding\", \"Anderson\", \"Cottonwood\", \"Red-Bluff\", \"Corning\", \"Orland\" ]\n",
        "first_part = \"https://www.zillow.com/homes/\"\n",
        "last_part = \",-CA_rb/\"\n",
        "urls = []\n",
        "for i in city:\n",
        "    urls.append(first_part + i + last_part)\n",
        "urls"
      ],
      "metadata": {
        "colab": {
          "base_uri": "https://localhost:8080/"
        },
        "id": "yxJs0zofYOzQ",
        "outputId": "722fc43b-baaf-4330-910f-47473cf2a541"
      },
      "execution_count": null,
      "outputs": [
        {
          "output_type": "execute_result",
          "data": {
            "text/plain": [
              "['https://www.zillow.com/homes/Redding,-CA_rb/',\n",
              " 'https://www.zillow.com/homes/Anderson,-CA_rb/',\n",
              " 'https://www.zillow.com/homes/Cottonwood,-CA_rb/',\n",
              " 'https://www.zillow.com/homes/Red-Bluff,-CA_rb/',\n",
              " 'https://www.zillow.com/homes/Corning,-CA_rb/',\n",
              " 'https://www.zillow.com/homes/Orland,-CA_rb/']"
            ]
          },
          "metadata": {},
          "execution_count": 5
        }
      ]
    },
    {
      "cell_type": "code",
      "source": [
        "time.sleep(8)\n",
        "def city_scraping(u):\n",
        "    header = {\"User-Agent\":\"Mozilla/5.0 (Macintosh; Intel Mac OS X 10_15_7) AppleWebKit/537.36 (KHTML, like Gecko) Chrome/92.0.4515.159 Safari/537.36\" }\n",
        "    response = requests.get(u, headers = header )\n",
        "    soup = BeautifulSoup(response.content, 'html.parser')\n",
        "    #Search for data and store them in a table\n",
        "    table = pd.DataFrame(columns = [\"Address\", \"Price\", \"Detail\", \"Links\"])\n",
        "    listings = soup.find_all('li', class_='sc-1mmrbkb-0 jbKori')\n",
        "    print(len(listings))\n",
        "    data = []\n",
        "\n",
        "    for listing in listings:\n",
        "      print(listing)\n",
        "      address = listing.find('a').text.strip()\n",
        "      price = listing.find('span').text.strip()\n",
        "      detail = listing.find('a')['href'].split('/')[-2].replace('-', ' ').title() + ' Homes for Sale'\n",
        "      data.append({'Address': address, 'Price': price, 'Detail': detail})\n",
        "\n",
        "    print(data)\n",
        "\n",
        "\n",
        "\n",
        "\n",
        "\n",
        "\n",
        "\n",
        "\n",
        "\n",
        "\n",
        "\n",
        "\n",
        "\n",
        "\n",
        "\n",
        "\n",
        "\n",
        "\n",
        "    #print(soup.prettify())\n",
        "    # houses = soup.select('.list-card-info')\n",
        "    # print(len(houses))\n",
        "    # for house in houses:\n",
        "    #     try:\n",
        "    #         address = house.find(\"address\", {\"class\":\"list-card-addr\" }).text\n",
        "    #         price = house.find(\"div\", {\"class\":\"list-card-price\" }).text.split(\"$\")[1].replace(\",\",\"\") #split to take price only, not $ sign\n",
        "    #         detail = house.find(\"ul\", {\"class\":\"list-card-details\" }).text\n",
        "    #         link = house.a[\"href\"]\n",
        "    #     except Exception as e:\n",
        "    #         address = None\n",
        "    #         link = None\n",
        "    #         detail = None\n",
        "    #         price = None\n",
        "\n",
        "\n",
        "    #     table = table.append({\"Address\": address, \"Price\": price,\n",
        "    #                             \"Detail\": detail, \"Links\":link}, ignore_index=True)\n",
        "    # return table"
      ],
      "metadata": {
        "id": "42zyVYOsYSDf"
      },
      "execution_count": null,
      "outputs": []
    },
    {
      "cell_type": "code",
      "source": [
        "time.sleep(3)\n",
        "redding = city_scraping(urls[0])\n"
      ],
      "metadata": {
        "colab": {
          "base_uri": "https://localhost:8080/",
          "height": 339
        },
        "id": "8dezWKu9YUCk",
        "outputId": "04fac384-7678-4f12-af29-95511a5a5bc3"
      },
      "execution_count": null,
      "outputs": [
        {
          "output_type": "stream",
          "name": "stdout",
          "text": [
            "60\n",
            "<li class=\"sc-1mmrbkb-0 jbKori\"><span>Redding Homes for Sale</span><span>$386,789</span></li>\n"
          ]
        },
        {
          "output_type": "error",
          "ename": "AttributeError",
          "evalue": "ignored",
          "traceback": [
            "\u001b[0;31m---------------------------------------------------------------------------\u001b[0m",
            "\u001b[0;31mAttributeError\u001b[0m                            Traceback (most recent call last)",
            "\u001b[0;32m<ipython-input-16-6dbf4e348e70>\u001b[0m in \u001b[0;36m<cell line: 2>\u001b[0;34m()\u001b[0m\n\u001b[1;32m      1\u001b[0m \u001b[0mtime\u001b[0m\u001b[0;34m.\u001b[0m\u001b[0msleep\u001b[0m\u001b[0;34m(\u001b[0m\u001b[0;36m3\u001b[0m\u001b[0;34m)\u001b[0m\u001b[0;34m\u001b[0m\u001b[0;34m\u001b[0m\u001b[0m\n\u001b[0;32m----> 2\u001b[0;31m \u001b[0mredding\u001b[0m \u001b[0;34m=\u001b[0m \u001b[0mcity_scraping\u001b[0m\u001b[0;34m(\u001b[0m\u001b[0murls\u001b[0m\u001b[0;34m[\u001b[0m\u001b[0;36m0\u001b[0m\u001b[0;34m]\u001b[0m\u001b[0;34m)\u001b[0m\u001b[0;34m\u001b[0m\u001b[0;34m\u001b[0m\u001b[0m\n\u001b[0m",
            "\u001b[0;32m<ipython-input-15-81d83827a61f>\u001b[0m in \u001b[0;36mcity_scraping\u001b[0;34m(u)\u001b[0m\n\u001b[1;32m     12\u001b[0m     \u001b[0;32mfor\u001b[0m \u001b[0mlisting\u001b[0m \u001b[0;32min\u001b[0m \u001b[0mlistings\u001b[0m\u001b[0;34m:\u001b[0m\u001b[0;34m\u001b[0m\u001b[0;34m\u001b[0m\u001b[0m\n\u001b[1;32m     13\u001b[0m       \u001b[0mprint\u001b[0m\u001b[0;34m(\u001b[0m\u001b[0mlisting\u001b[0m\u001b[0;34m)\u001b[0m\u001b[0;34m\u001b[0m\u001b[0;34m\u001b[0m\u001b[0m\n\u001b[0;32m---> 14\u001b[0;31m       \u001b[0maddress\u001b[0m \u001b[0;34m=\u001b[0m \u001b[0mlisting\u001b[0m\u001b[0;34m.\u001b[0m\u001b[0mfind\u001b[0m\u001b[0;34m(\u001b[0m\u001b[0;34m'a'\u001b[0m\u001b[0;34m)\u001b[0m\u001b[0;34m.\u001b[0m\u001b[0mtext\u001b[0m\u001b[0;34m.\u001b[0m\u001b[0mstrip\u001b[0m\u001b[0;34m(\u001b[0m\u001b[0;34m)\u001b[0m\u001b[0;34m\u001b[0m\u001b[0;34m\u001b[0m\u001b[0m\n\u001b[0m\u001b[1;32m     15\u001b[0m       \u001b[0mprice\u001b[0m \u001b[0;34m=\u001b[0m \u001b[0mlisting\u001b[0m\u001b[0;34m.\u001b[0m\u001b[0mfind\u001b[0m\u001b[0;34m(\u001b[0m\u001b[0;34m'span'\u001b[0m\u001b[0;34m)\u001b[0m\u001b[0;34m.\u001b[0m\u001b[0mtext\u001b[0m\u001b[0;34m.\u001b[0m\u001b[0mstrip\u001b[0m\u001b[0;34m(\u001b[0m\u001b[0;34m)\u001b[0m\u001b[0;34m\u001b[0m\u001b[0;34m\u001b[0m\u001b[0m\n\u001b[1;32m     16\u001b[0m       \u001b[0mdetail\u001b[0m \u001b[0;34m=\u001b[0m \u001b[0mlisting\u001b[0m\u001b[0;34m.\u001b[0m\u001b[0mfind\u001b[0m\u001b[0;34m(\u001b[0m\u001b[0;34m'a'\u001b[0m\u001b[0;34m)\u001b[0m\u001b[0;34m[\u001b[0m\u001b[0;34m'href'\u001b[0m\u001b[0;34m]\u001b[0m\u001b[0;34m.\u001b[0m\u001b[0msplit\u001b[0m\u001b[0;34m(\u001b[0m\u001b[0;34m'/'\u001b[0m\u001b[0;34m)\u001b[0m\u001b[0;34m[\u001b[0m\u001b[0;34m-\u001b[0m\u001b[0;36m2\u001b[0m\u001b[0;34m]\u001b[0m\u001b[0;34m.\u001b[0m\u001b[0mreplace\u001b[0m\u001b[0;34m(\u001b[0m\u001b[0;34m'-'\u001b[0m\u001b[0;34m,\u001b[0m \u001b[0;34m' '\u001b[0m\u001b[0;34m)\u001b[0m\u001b[0;34m.\u001b[0m\u001b[0mtitle\u001b[0m\u001b[0;34m(\u001b[0m\u001b[0;34m)\u001b[0m \u001b[0;34m+\u001b[0m \u001b[0;34m' Homes for Sale'\u001b[0m\u001b[0;34m\u001b[0m\u001b[0;34m\u001b[0m\u001b[0m\n",
            "\u001b[0;31mAttributeError\u001b[0m: 'NoneType' object has no attribute 'text'"
          ]
        }
      ]
    },
    {
      "cell_type": "code",
      "source": [
        "time.sleep(30)\n",
        "anderson = city_scraping(urls[1])\n"
      ],
      "metadata": {
        "colab": {
          "base_uri": "https://localhost:8080/"
        },
        "id": "jMvWP8W6YVxU",
        "outputId": "27134c9e-8fe2-4915-c84c-f6dbf9bceb29"
      },
      "execution_count": null,
      "outputs": [
        {
          "output_type": "stream",
          "name": "stdout",
          "text": [
            "0\n"
          ]
        }
      ]
    },
    {
      "cell_type": "code",
      "source": [
        "time.sleep(30)\n",
        "cottonwood = city_scraping(urls[2])\n"
      ],
      "metadata": {
        "colab": {
          "base_uri": "https://localhost:8080/"
        },
        "id": "706_LdzCYaDg",
        "outputId": "933687e9-316d-4424-e46d-a7fe7d347437"
      },
      "execution_count": null,
      "outputs": [
        {
          "output_type": "stream",
          "name": "stdout",
          "text": [
            "0\n"
          ]
        }
      ]
    },
    {
      "cell_type": "code",
      "source": [
        "time.sleep(35)\n",
        "corning = city_scraping(urls[4])\n"
      ],
      "metadata": {
        "colab": {
          "base_uri": "https://localhost:8080/"
        },
        "id": "8UQbO5TiYb4A",
        "outputId": "be45e76d-0c7e-45f5-f6fa-eb0365a752bc"
      },
      "execution_count": null,
      "outputs": [
        {
          "output_type": "stream",
          "name": "stdout",
          "text": [
            "0\n"
          ]
        }
      ]
    },
    {
      "cell_type": "code",
      "source": [
        "time.sleep(30)\n",
        "orland = city_scraping(urls[5])\n"
      ],
      "metadata": {
        "colab": {
          "base_uri": "https://localhost:8080/"
        },
        "id": "SLfMc0YCYcgs",
        "outputId": "fb2f1f5f-f6cb-4fcf-9968-0a4f7c22269c"
      },
      "execution_count": null,
      "outputs": [
        {
          "output_type": "stream",
          "name": "stdout",
          "text": [
            "0\n"
          ]
        }
      ]
    },
    {
      "cell_type": "code",
      "source": [
        "import requests\n",
        "from bs4 import BeautifulSoup\n",
        "import pandas as pd\n",
        "\n",
        "def city_scraping(url):\n",
        "    header = {\"User-Agent\": \"Mozilla/5.0 (Macintosh; Intel Mac OS X 10_15_7) AppleWebKit/537.36 (KHTML, like Gecko) Chrome/92.0.4515.159 Safari/537.36\"}\n",
        "    response = requests.get(url, headers=header)\n",
        "    soup = BeautifulSoup(response.content, 'html.parser')\n",
        "\n",
        "    table = pd.DataFrame(columns=[\"Address\", \"Price\", \"Detail\", \"Links\"])\n",
        "\n",
        "    houses = soup.find_all(\"div\", class_=\"list-card-info\")\n",
        "    for house in houses:\n",
        "        try:\n",
        "            address = house.find(\"address\", class_=\"list-card-addr\").text\n",
        "            price = house.find(\"div\", class_=\"list-card-price\").text.strip()\n",
        "            detail = house.find(\"ul\", class_=\"list-card-details\").text.strip()\n",
        "            link = house.find(\"a\", class_=\"list-card-link\")[\"href\"]\n",
        "        except Exception as e:\n",
        "            address = None\n",
        "            link = None\n",
        "            detail = None\n",
        "            price = None\n",
        "\n",
        "        table = table.append({\"Address\": address, \"Price\": price, \"Detail\": detail, \"Links\": link}, ignore_index=True)\n",
        "\n",
        "    return table\n",
        "\n",
        "url = \"https://www.zillow.com/homes/Redding,-CA_rb/\"\n",
        "redding = city_scraping(url)\n",
        "print(redding)\n"
      ],
      "metadata": {
        "colab": {
          "base_uri": "https://localhost:8080/"
        },
        "id": "qLjFzLvzbzdN",
        "outputId": "861d986b-ab47-4544-8a14-ee326cab4f08"
      },
      "execution_count": null,
      "outputs": [
        {
          "output_type": "stream",
          "name": "stdout",
          "text": [
            "Empty DataFrame\n",
            "Columns: [Address, Price, Detail, Links]\n",
            "Index: []\n"
          ]
        }
      ]
    },
    {
      "cell_type": "code",
      "source": [
        "from datetime import date\n",
        "import os\n",
        "import random\n",
        "\n",
        "number_list = [30, 10, 43, 41, 22]\n",
        "\n",
        "\n",
        "city = [\"Redding\", \"Anderson\", \"Cottonwood\", \"Red-Bluff\", \"Corning\", \"Orland\" ]\n",
        "first_part = \"https://www.zillow.com/homes/\"\n",
        "last_part = \",-CA_rb/\"\n",
        "urls = []\n",
        "for i in city:\n",
        "    url = first_part + i + last_part\n",
        "    for t in number_list:\n",
        "        time.sleep(t)\n",
        "    table = city_scraping(url)\n",
        "    directory = r\"/Users/xuanthingo/Documents/Derek/Data/\"\n",
        "    name = i + \"_\"+ str(date.today()) + \".csv\"\n",
        "    table.to_csv(os.path.join(directory,name),encoding='utf-8', index = None, header=True)"
      ],
      "metadata": {
        "colab": {
          "base_uri": "https://localhost:8080/",
          "height": 235
        },
        "id": "sUhuiJ8tYeNg",
        "outputId": "ef0175f6-b87d-4700-db72-f5777636ed2d"
      },
      "execution_count": null,
      "outputs": [
        {
          "output_type": "error",
          "ename": "NameError",
          "evalue": "ignored",
          "traceback": [
            "\u001b[0;31m---------------------------------------------------------------------------\u001b[0m",
            "\u001b[0;31mNameError\u001b[0m                                 Traceback (most recent call last)",
            "\u001b[0;32m<ipython-input-1-352adf4c6cd8>\u001b[0m in \u001b[0;36m<cell line: 12>\u001b[0;34m()\u001b[0m\n\u001b[1;32m     13\u001b[0m     \u001b[0murl\u001b[0m \u001b[0;34m=\u001b[0m \u001b[0mfirst_part\u001b[0m \u001b[0;34m+\u001b[0m \u001b[0mi\u001b[0m \u001b[0;34m+\u001b[0m \u001b[0mlast_part\u001b[0m\u001b[0;34m\u001b[0m\u001b[0;34m\u001b[0m\u001b[0m\n\u001b[1;32m     14\u001b[0m     \u001b[0;32mfor\u001b[0m \u001b[0mt\u001b[0m \u001b[0;32min\u001b[0m \u001b[0mnumber_list\u001b[0m\u001b[0;34m:\u001b[0m\u001b[0;34m\u001b[0m\u001b[0;34m\u001b[0m\u001b[0m\n\u001b[0;32m---> 15\u001b[0;31m         \u001b[0mtime\u001b[0m\u001b[0;34m.\u001b[0m\u001b[0msleep\u001b[0m\u001b[0;34m(\u001b[0m\u001b[0mt\u001b[0m\u001b[0;34m)\u001b[0m\u001b[0;34m\u001b[0m\u001b[0;34m\u001b[0m\u001b[0m\n\u001b[0m\u001b[1;32m     16\u001b[0m     \u001b[0mtable\u001b[0m \u001b[0;34m=\u001b[0m \u001b[0mcity_scraping\u001b[0m\u001b[0;34m(\u001b[0m\u001b[0murl\u001b[0m\u001b[0;34m)\u001b[0m\u001b[0;34m\u001b[0m\u001b[0;34m\u001b[0m\u001b[0m\n\u001b[1;32m     17\u001b[0m     \u001b[0mdirectory\u001b[0m \u001b[0;34m=\u001b[0m \u001b[0;34mr\"/Users/xuanthingo/Documents/Derek/Data/\"\u001b[0m\u001b[0;34m\u001b[0m\u001b[0;34m\u001b[0m\u001b[0m\n",
            "\u001b[0;31mNameError\u001b[0m: name 'time' is not defined"
          ]
        }
      ]
    },
    {
      "cell_type": "code",
      "source": [],
      "metadata": {
        "id": "x-q0veygI8wc"
      },
      "execution_count": null,
      "outputs": []
    }
  ]
}